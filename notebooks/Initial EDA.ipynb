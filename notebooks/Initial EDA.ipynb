{
 "cells": [
  {
   "cell_type": "code",
   "execution_count": 19,
   "id": "4ef86fe7",
   "metadata": {},
   "outputs": [],
   "source": [
    "import pandas as pd\n",
    "import numpy as np\n",
    "import matplotlib.pyplot as plt\n",
    "import seaborn as sns\n",
    "import pickle\n",
    "import os\n",
    "from datetime import datetime"
   ]
  },
  {
   "cell_type": "code",
   "execution_count": 9,
   "id": "fdfdcab4",
   "metadata": {},
   "outputs": [],
   "source": [
    "data = pd.read_csv('../data/sample_raw_news.csv', index_col = 0)"
   ]
  },
  {
   "cell_type": "code",
   "execution_count": 10,
   "id": "8a8030cf",
   "metadata": {
    "scrolled": true
   },
   "outputs": [
    {
     "data": {
      "text/html": [
       "<div>\n",
       "<style scoped>\n",
       "    .dataframe tbody tr th:only-of-type {\n",
       "        vertical-align: middle;\n",
       "    }\n",
       "\n",
       "    .dataframe tbody tr th {\n",
       "        vertical-align: top;\n",
       "    }\n",
       "\n",
       "    .dataframe thead th {\n",
       "        text-align: right;\n",
       "    }\n",
       "</style>\n",
       "<table border=\"1\" class=\"dataframe\">\n",
       "  <thead>\n",
       "    <tr style=\"text-align: right;\">\n",
       "      <th></th>\n",
       "      <th>date</th>\n",
       "      <th>headline</th>\n",
       "      <th>source</th>\n",
       "      <th>url</th>\n",
       "      <th>section</th>\n",
       "    </tr>\n",
       "  </thead>\n",
       "  <tbody>\n",
       "    <tr>\n",
       "      <th>956880</th>\n",
       "      <td>2018-09-08</td>\n",
       "      <td>It's Selfie Britain! The top 21 most popular s...</td>\n",
       "      <td>daily_mail</td>\n",
       "      <td>https://dailymail.co.uk/news/article-6145581/S...</td>\n",
       "      <td>news</td>\n",
       "    </tr>\n",
       "    <tr>\n",
       "      <th>1296444</th>\n",
       "      <td>2018-02-22</td>\n",
       "      <td>Former Ukip leader appears on TV with girlfrie...</td>\n",
       "      <td>daily_mail</td>\n",
       "      <td>https://dailymail.co.uk/wires/pa/article-54222...</td>\n",
       "      <td>wires</td>\n",
       "    </tr>\n",
       "    <tr>\n",
       "      <th>4526188</th>\n",
       "      <td>2019-04-07</td>\n",
       "      <td>Christopher Nolan’s new project is globe-trott...</td>\n",
       "      <td>independent</td>\n",
       "      <td>https://www.independent.co.uk/arts-entertainme...</td>\n",
       "      <td>arts-entertainment</td>\n",
       "    </tr>\n",
       "    <tr>\n",
       "      <th>1740434</th>\n",
       "      <td>2017-05-12</td>\n",
       "      <td>South Sudan's ousted army chief \"in a fighting...</td>\n",
       "      <td>daily_mail</td>\n",
       "      <td>https://dailymail.co.uk/wires/reuters/article-...</td>\n",
       "      <td>wires</td>\n",
       "    </tr>\n",
       "    <tr>\n",
       "      <th>489920</th>\n",
       "      <td>2019-06-13</td>\n",
       "      <td>AP Photos: Hong Kong activists vow to keep up ...</td>\n",
       "      <td>daily_mail</td>\n",
       "      <td>https://dailymail.co.uk/wires/ap/article-71362...</td>\n",
       "      <td>wires</td>\n",
       "    </tr>\n",
       "  </tbody>\n",
       "</table>\n",
       "</div>"
      ],
      "text/plain": [
       "               date                                           headline  \\\n",
       "956880   2018-09-08  It's Selfie Britain! The top 21 most popular s...   \n",
       "1296444  2018-02-22  Former Ukip leader appears on TV with girlfrie...   \n",
       "4526188  2019-04-07  Christopher Nolan’s new project is globe-trott...   \n",
       "1740434  2017-05-12  South Sudan's ousted army chief \"in a fighting...   \n",
       "489920   2019-06-13  AP Photos: Hong Kong activists vow to keep up ...   \n",
       "\n",
       "              source                                                url  \\\n",
       "956880    daily_mail  https://dailymail.co.uk/news/article-6145581/S...   \n",
       "1296444   daily_mail  https://dailymail.co.uk/wires/pa/article-54222...   \n",
       "4526188  independent  https://www.independent.co.uk/arts-entertainme...   \n",
       "1740434   daily_mail  https://dailymail.co.uk/wires/reuters/article-...   \n",
       "489920    daily_mail  https://dailymail.co.uk/wires/ap/article-71362...   \n",
       "\n",
       "                    section  \n",
       "956880                 news  \n",
       "1296444               wires  \n",
       "4526188  arts-entertainment  \n",
       "1740434               wires  \n",
       "489920                wires  "
      ]
     },
     "execution_count": 10,
     "metadata": {},
     "output_type": "execute_result"
    }
   ],
   "source": [
    "data.head()"
   ]
  },
  {
   "cell_type": "code",
   "execution_count": 22,
   "id": "3703420e",
   "metadata": {},
   "outputs": [],
   "source": [
    "data['date'] = pd.to_datetime(data['date']) "
   ]
  },
  {
   "cell_type": "code",
   "execution_count": 38,
   "id": "16d93a8c",
   "metadata": {},
   "outputs": [],
   "source": [
    "by_news_org = data.groupby(by = 'source').count()"
   ]
  },
  {
   "cell_type": "code",
   "execution_count": 47,
   "id": "2e59229b",
   "metadata": {},
   "outputs": [
    {
     "data": {
      "text/plain": [
       "independent    418\n",
       "Name: source, dtype: int64"
      ]
     },
     "execution_count": 47,
     "metadata": {},
     "output_type": "execute_result"
    }
   ],
   "source": [
    "data['source'].value_counts()"
   ]
  },
  {
   "cell_type": "code",
   "execution_count": 39,
   "id": "e73383f6",
   "metadata": {},
   "outputs": [
    {
     "data": {
      "text/html": [
       "<div>\n",
       "<style scoped>\n",
       "    .dataframe tbody tr th:only-of-type {\n",
       "        vertical-align: middle;\n",
       "    }\n",
       "\n",
       "    .dataframe tbody tr th {\n",
       "        vertical-align: top;\n",
       "    }\n",
       "\n",
       "    .dataframe thead th {\n",
       "        text-align: right;\n",
       "    }\n",
       "</style>\n",
       "<table border=\"1\" class=\"dataframe\">\n",
       "  <thead>\n",
       "    <tr style=\"text-align: right;\">\n",
       "      <th></th>\n",
       "      <th>date</th>\n",
       "      <th>headline</th>\n",
       "      <th>url</th>\n",
       "      <th>section</th>\n",
       "    </tr>\n",
       "    <tr>\n",
       "      <th>source</th>\n",
       "      <th></th>\n",
       "      <th></th>\n",
       "      <th></th>\n",
       "      <th></th>\n",
       "    </tr>\n",
       "  </thead>\n",
       "  <tbody>\n",
       "    <tr>\n",
       "      <th>daily_mail</th>\n",
       "      <td>63065</td>\n",
       "      <td>63065</td>\n",
       "      <td>63065</td>\n",
       "      <td>63065</td>\n",
       "    </tr>\n",
       "    <tr>\n",
       "      <th>evening_standard</th>\n",
       "      <td>5977</td>\n",
       "      <td>5977</td>\n",
       "      <td>5977</td>\n",
       "      <td>5977</td>\n",
       "    </tr>\n",
       "    <tr>\n",
       "      <th>express</th>\n",
       "      <td>14913</td>\n",
       "      <td>14913</td>\n",
       "      <td>14913</td>\n",
       "      <td>14913</td>\n",
       "    </tr>\n",
       "    <tr>\n",
       "      <th>guardian</th>\n",
       "      <td>10446</td>\n",
       "      <td>10446</td>\n",
       "      <td>10446</td>\n",
       "      <td>10446</td>\n",
       "    </tr>\n",
       "    <tr>\n",
       "      <th>independent</th>\n",
       "      <td>3941</td>\n",
       "      <td>3941</td>\n",
       "      <td>3941</td>\n",
       "      <td>3941</td>\n",
       "    </tr>\n",
       "    <tr>\n",
       "      <th>inews</th>\n",
       "      <td>1658</td>\n",
       "      <td>1658</td>\n",
       "      <td>1658</td>\n",
       "      <td>1658</td>\n",
       "    </tr>\n",
       "  </tbody>\n",
       "</table>\n",
       "</div>"
      ],
      "text/plain": [
       "                   date  headline    url  section\n",
       "source                                           \n",
       "daily_mail        63065     63065  63065    63065\n",
       "evening_standard   5977      5977   5977     5977\n",
       "express           14913     14913  14913    14913\n",
       "guardian          10446     10446  10446    10446\n",
       "independent        3941      3941   3941     3941\n",
       "inews              1658      1658   1658     1658"
      ]
     },
     "execution_count": 39,
     "metadata": {},
     "output_type": "execute_result"
    }
   ],
   "source": [
    "by_news_org"
   ]
  },
  {
   "cell_type": "code",
   "execution_count": 29,
   "id": "4a285d9f",
   "metadata": {},
   "outputs": [
    {
     "data": {
      "text/plain": [
       "datetime.datetime(2018, 9, 8, 0, 0)"
      ]
     },
     "execution_count": 29,
     "metadata": {},
     "output_type": "execute_result"
    }
   ],
   "source": [
    "data['date'][956880]"
   ]
  },
  {
   "cell_type": "code",
   "execution_count": null,
   "id": "85874f52",
   "metadata": {},
   "outputs": [],
   "source": []
  }
 ],
 "metadata": {
  "kernelspec": {
   "display_name": "Python 3 (ipykernel)",
   "language": "python",
   "name": "python3"
  },
  "language_info": {
   "codemirror_mode": {
    "name": "ipython",
    "version": 3
   },
   "file_extension": ".py",
   "mimetype": "text/x-python",
   "name": "python",
   "nbconvert_exporter": "python",
   "pygments_lexer": "ipython3",
   "version": "3.10.6"
  },
  "toc": {
   "base_numbering": 1,
   "nav_menu": {},
   "number_sections": true,
   "sideBar": true,
   "skip_h1_title": false,
   "title_cell": "Table of Contents",
   "title_sidebar": "Contents",
   "toc_cell": false,
   "toc_position": {},
   "toc_section_display": true,
   "toc_window_display": false
  }
 },
 "nbformat": 4,
 "nbformat_minor": 5
}
